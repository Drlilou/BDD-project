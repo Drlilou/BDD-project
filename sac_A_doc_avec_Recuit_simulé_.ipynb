{
  "nbformat": 4,
  "nbformat_minor": 0,
  "metadata": {
    "colab": {
      "name": "sac A doc avec Recuit simulé  .ipynb",
      "provenance": [],
      "collapsed_sections": [],
      "authorship_tag": "ABX9TyO3K9FRFmaPxDc3aoYvZr2L",
      "include_colab_link": true
    },
    "kernelspec": {
      "name": "python3",
      "display_name": "Python 3"
    },
    "language_info": {
      "name": "python"
    }
  },
  "cells": [
    {
      "cell_type": "markdown",
      "metadata": {
        "id": "view-in-github",
        "colab_type": "text"
      },
      "source": [
        "<a href=\"https://colab.research.google.com/github/Drlilou/BDD-project/blob/master/sac_A_doc_avec_Recuit_simul%C3%A9_.ipynb\" target=\"_parent\"><img src=\"https://colab.research.google.com/assets/colab-badge.svg\" alt=\"Open In Colab\"/></a>"
      ]
    },
    {
      "cell_type": "code",
      "execution_count": 2,
      "metadata": {
        "colab": {
          "base_uri": "https://localhost:8080/"
        },
        "id": "NKsZYNskT7qX",
        "outputId": "417bb44c-4b3c-4c9e-a84d-1d630a3b5315"
      },
      "outputs": [
        {
          "output_type": "stream",
          "name": "stdout",
          "text": [
            "NbrObjets 200 ,NbrRessource 7 \n",
            "============================\n",
            "object \n",
            "      0\n",
            "0    67\n",
            "1    88\n",
            "2    87\n",
            "3    80\n",
            "4    47\n",
            "..   ..\n",
            "195  49\n",
            "196  62\n",
            "197  82\n",
            "198  78\n",
            "199  57\n",
            "\n",
            "[200 rows x 1 columns]\n",
            "============================\n",
            "ressources \n",
            "        0   1   2   3   4     5     6\n",
            "0    45.0  67  85  59  15  30.0  50.0\n",
            "1    46.0  50  46   4  20  44.0  99.0\n",
            "2    38.0  97  24  18  44  71.0  89.0\n",
            "3    54.0  65   1  25  87  11.0  31.0\n",
            "4     6.0  63  51  61  11   6.0  62.0\n",
            "..    ...  ..  ..  ..  ..   ...   ...\n",
            "195  57.0  26  52  58  40  32.0  64.0\n",
            "196  47.0  30  94  27  30   3.0  61.0\n",
            "197  10.0  21  84   4  64  69.0  88.0\n",
            "198  97.0  75  22  33  50  23.0  81.0\n",
            "199  47.0  90  32  26  46  52.0  23.0\n",
            "\n",
            "[200 rows x 7 columns]\n",
            "============================\n",
            "capacite \n",
            "      0\n",
            "0  5177\n",
            "1  5128\n",
            "2  4836\n",
            "3  4983\n",
            "4  4848\n",
            "5  4794\n",
            "6  4900\n",
            "\n"
          ]
        }
      ],
      "source": [
        "#!/usr/bin/env python\n",
        "# coding: utf-8\n",
        "import pandas as pd #2000\n",
        "file=\"SDM-instance-1.txt\"\n",
        "val=pd.read_csv(file,skiprows=1,header=None)\n",
        "val=val.head(1)\n",
        "#recuperer le conteun de ligne 2 ( nbr des objet et nbr des resouces )\n",
        "NbrObjets,NbrRessource=list(map(int,val[0][0].split()))\n",
        "print(\"NbrObjets {} ,NbrRessource {} \".format(NbrObjets,NbrRessource))\n",
        "#NbrObjets,NbrRessource\n",
        "#recuperer tt les objet a partir de ligne 3 juesqu'a  3+nbrObject\n",
        "obj=pd.read_csv(file,skiprows=3,header=None)\n",
        "obj=obj.head(NbrObjets)\n",
        "obj[0]=obj[0].astype(int)\n",
        "print(\"============================\")\n",
        "print(\"object \")\n",
        "print(obj)\n",
        "#recuperer tt les ress  a partir de ligne nbrObject+4  juesqu'a 2*  nbrObject+4\n",
        "res=pd.read_csv(file,skiprows=NbrObjets+4,header=None,delimiter=\" \")\n",
        "res=res.head(NbrObjets)\n",
        "# caste  les column de String a Integer \n",
        "print(\"============================\")\n",
        "print(\"ressources \")\n",
        "print(res)\n",
        "for i in res:\n",
        "    res[i]=res[i].astype(int)\n",
        "# lire les capacite a parite de ligne nbrObj*2+ 5 jusqu'a  nbrObj*2+ NbrRessource + 5\n",
        "cap=pd.read_csv(file,skiprows=NbrObjets*2+5,header=None,delimiter=\" \")\n",
        "#cap=df.head(NbrObjets)\n",
        "cap=cap.head(NbrRessource)\n",
        "print(\"============================\")\n",
        "print(\"capacite \")\n",
        "print(cap)\n",
        "import random\n",
        "def functionRandomLines():\n",
        "    listOfindex=[]\n",
        "\n",
        "    while True:\n",
        "\n",
        "        index=random.randint(0, res.shape[0]-1)\n",
        "        randomR=res.loc[index]\n",
        "        if index not in listOfindex:\n",
        "            \n",
        "            df2=res.loc[listOfindex]#.sum()\n",
        "            if all(res.loc[listOfindex].sum()<=cap[0]):\n",
        "               \n",
        "                listOfindex.append(index)\n",
        "            else :\n",
        "                 break\n",
        "    return listOfindex\n",
        "    \n",
        "som, listOfindex=0,[]\n",
        "for i in range(5):\n",
        "    listOfindexJdid=functionRandomLines()\n",
        "    somJdid=obj.loc[listOfindexJdid].sum().tolist()[0]\n",
        "    if som<somJdid:\n",
        "        som, listOfindex=somJdid, listOfindexJdid\n",
        "    #print(listOfindex)\n",
        "\n",
        "print()"
      ]
    },
    {
      "cell_type": "code",
      "source": [
        "T=10**4\n",
        "#som, listOfindex\n",
        "coef=0.9\n",
        "\n",
        "import math\n",
        "s=listOfindex.copy()\n",
        "sb=listOfindex.copy()\n",
        "while  0 < T:\n",
        "    \n",
        "    sa=s.copy()\n",
        "    ranomdLine=random.choice(sa)\n",
        "    sa.remove(ranomdLine)\n",
        "    \n",
        "    index=random.randint(0, res.shape[0]-1)\n",
        "    #randomR=res.loc[index]\n",
        "    sa.append(index)\n",
        "    somJdida=obj.loc[sa].sum().tolist()[0]\n",
        "    r=random.random()\n",
        "    delta=somJdida-somJdid\n",
        "    try:\n",
        "        if delta >0 or math.exp(-delta/T)  >r :\n",
        "            s=sa\n",
        "            somJdidB=obj.loc[sb].sum().tolist()[0]\n",
        "            somS=obj.loc[s].sum().tolist()[0]\n",
        "            deltaB=somS-somJdidB\n",
        "            if deltaB >0:\n",
        "                sb=s\n",
        "    except:\n",
        "        break\n",
        "    T*=coef\n",
        "  "
      ],
      "metadata": {
        "id": "-_a1QcSyfRT6"
      },
      "execution_count": 70,
      "outputs": []
    },
    {
      "cell_type": "code",
      "source": [
        "soljdid,solinit=obj.loc[sb].sum().loc[0],obj.loc[listOfindex].sum().loc[0]\n",
        "print(\"la valuer de sol  9dim est {} qui devient {}\".format(solinit,soljdid))"
      ],
      "metadata": {
        "colab": {
          "base_uri": "https://localhost:8080/"
        },
        "id": "TPR8vqEIbhJV",
        "outputId": "cbe8ecf8-7310-4f5b-96e7-38934612a443"
      },
      "execution_count": 71,
      "outputs": [
        {
          "output_type": "stream",
          "name": "stdout",
          "text": [
            "la valuer de sol  9dim est 7079 qui devient 7563\n"
          ]
        }
      ]
    }
  ]
}